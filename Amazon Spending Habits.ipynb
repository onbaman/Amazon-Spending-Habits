{
 "cells": [
  {
   "cell_type": "code",
   "execution_count": null,
   "metadata": {},
   "outputs": [],
   "source": [
    "import pandas as pd\n",
    "import numpy as np\n",
    "import seaborn as sns"
   ]
  },
  {
   "cell_type": "code",
   "execution_count": null,
   "metadata": {},
   "outputs": [],
   "source": [
    "df_raw = pd.read_csv(\"data/01-Jan-2017_to_01-Jan-2019.csv\")\n",
    "\n",
    "df_raw.columns"
   ]
  },
  {
   "cell_type": "code",
   "execution_count": null,
   "metadata": {},
   "outputs": [],
   "source": [
    "#Remove unneeded columns that have no use for our calculations\n",
    "\n",
    "df = pd.read_csv(\"data/01-Jan-2017_to_01-Jan-2019.csv\")\n",
    "df_cleaned = df_raw.drop([\"Purchase Order Number\", \"Website\", \"Ordering Customer Email\", \"Shipment Date\", \"Shipping Address Name\",\n",
    "                              \"Shipping Address Street 1\", \"Shipping Address Street 2\", \"Shipping Address City\" ,\"Shipping Address State\",\n",
    "                              \"Shipping Address Zip\", \"Order Status\", \"Group Name\", \"Buyer Name\", \"Carrier Name & Tracking Number\"], axis=1)\n",
    "\n",
    "df_cleaned = df_cleaned.apply(lambda x: x.str.strip('$'))\n",
    "df_cleaned['Subtotal'] = df_cleaned['Subtotal'].astype('float64')\n",
    "df_cleaned['Shipping Charge'] = df_cleaned['Shipping Charge'].astype('float64')\n",
    "df_cleaned['Tax Before Promotions'] = df_cleaned['Tax Before Promotions'].astype('float64')\n",
    "df_cleaned['Total Promotions'] = df_cleaned['Total Promotions'].astype('float64')\n",
    "df_cleaned['Tax Charged'] = df_cleaned['Tax Charged'].astype('float64')\n",
    "df_cleaned['Total Charged'] = df_cleaned['Total Charged'].astype('float64')\n",
    "#df_cleaned.head()\n",
    "df_cleaned.dtypes"
   ]
  },
  {
   "cell_type": "code",
   "execution_count": null,
   "metadata": {},
   "outputs": [],
   "source": [
    "#Split date into multiple columns\n",
    "\n",
    "df_cleaned['Order Date'] = pd.to_datetime(df_cleaned['Order Date'])\n",
    "df_cleaned['Order Year'] = df_cleaned['Order Date'].dt.year\n",
    "df_cleaned['Order Month'] = df_cleaned['Order Date'].dt.month\n",
    "df_cleaned['Order Day'] = df_cleaned['Order Date'].dt.day\n",
    "df_cleaned = df_cleaned.drop('Order Date',axis=1)\n",
    "newOrder = ['Order Year', 'Order Month','Order Day' ,'Order ID',\n",
    "        'Payment Instrument Type', 'Subtotal','Shipping Charge',\n",
    "        'Tax Before Promotions', 'Total Promotions','Tax Charged', 'Total Charged']\n",
    "\n",
    "df_cleaned = df_cleaned[newOrder]\n",
    "df_cleaned\n"
   ]
  },
  {
   "cell_type": "markdown",
   "metadata": {},
   "source": [
    "# Yearly Spending"
   ]
  },
  {
   "cell_type": "code",
   "execution_count": null,
   "metadata": {},
   "outputs": [],
   "source": [
    "#Get list of all the unique years in the column\n",
    "yearsList = df_cleaned['Order Year'].value_counts().index.tolist()\n",
    "#print(yearsList)\n",
    "yearsList\n",
    "\n",
    "#Yearly Spending\n",
    "\n",
    "df_yearlySpending = df_cleaned.groupby('Order Year').sum()\n",
    "df_yearlySpending = df_yearlySpending.drop(['Order Month', 'Order Day', 'Subtotal', 'Shipping Charge', 'Tax Before Promotions',\n",
    "                        'Total Promotions', 'Tax Charged'], axis=1)\n",
    "#df_yearlySpending\n",
    "\n",
    "ax = df_yearlySpending.plot(kind='bar')\n",
    "ax.set_title(\"Yearly Spending Habits\")"
   ]
  },
  {
   "cell_type": "markdown",
   "metadata": {},
   "source": [
    "# Monthly Spending"
   ]
  },
  {
   "cell_type": "code",
   "execution_count": null,
   "metadata": {},
   "outputs": [],
   "source": [
    "#Monthly Spending\n",
    "df_2018 = df_cleaned.loc[df_cleaned['Order Year'] == 2017]\n",
    "\n",
    "#df_monthlySpending = df_cleaned.groupby('Order Month').sum()\n",
    "#df_monthlySpending.drop(['Order Year', 'Order Day', 'Subtotal', 'Shipping Charge', 'Tax Before Promotions',\n",
    "#                        'Total Promotions', 'Tax Charged'], axis=1)\n",
    "\n",
    "df_monthlySpending = df_2018.groupby('Order Month').sum()\n",
    "df_monthlySpending = df_monthlySpending.drop(['Order Year', 'Order Day', 'Subtotal', 'Shipping Charge', 'Tax Before Promotions',\n",
    "                        'Total Promotions', 'Tax Charged'], axis=1)\n",
    "\n",
    "ax = df_monthlySpending.plot(kind='bar')\n",
    "ax.set_title('2018 Monthly Spending')"
   ]
  },
  {
   "cell_type": "code",
   "execution_count": null,
   "metadata": {},
   "outputs": [],
   "source": []
  }
 ],
 "metadata": {
  "kernelspec": {
   "display_name": "Python 3",
   "language": "python",
   "name": "python3"
  },
  "language_info": {
   "codemirror_mode": {
    "name": "ipython",
    "version": 3
   },
   "file_extension": ".py",
   "mimetype": "text/x-python",
   "name": "python",
   "nbconvert_exporter": "python",
   "pygments_lexer": "ipython3",
   "version": "3.7.1"
  }
 },
 "nbformat": 4,
 "nbformat_minor": 2
}
